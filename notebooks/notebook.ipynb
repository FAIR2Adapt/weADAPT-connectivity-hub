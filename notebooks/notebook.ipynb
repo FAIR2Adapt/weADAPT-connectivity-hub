{
 "cells": [
  {
   "cell_type": "markdown",
   "id": "a8e4ba77-e090-4299-baaa-87324d7fcad5",
   "metadata": {
    "execution": {
     "iopub.execute_input": "2025-04-18T08:45:36.134637Z",
     "iopub.status.busy": "2025-04-18T08:45:36.134409Z",
     "iopub.status.idle": "2025-04-18T08:45:42.285524Z",
     "shell.execute_reply": "2025-04-18T08:45:42.285022Z",
     "shell.execute_reply.started": "2025-04-18T08:45:36.134615Z"
    }
   },
   "source": [
    "# Jupyter Notebook for Case Study"
   ]
  },
  {
   "cell_type": "code",
   "execution_count": null,
   "id": "89bf1414-ca8f-42d4-87e1-d65d8b19878d",
   "metadata": {},
   "outputs": [],
   "source": []
  }
 ],
 "metadata": {
  "kernelspec": {
   "display_name": "Python 3 (ipykernel)",
   "language": "python",
   "name": "python3"
  },
  "language_info": {
   "codemirror_mode": {
    "name": "ipython",
    "version": 3
   },
   "file_extension": ".py",
   "mimetype": "text/x-python",
   "name": "python",
   "nbconvert_exporter": "python",
   "pygments_lexer": "ipython3",
   "version": "3.13.1"
  }
 },
 "nbformat": 4,
 "nbformat_minor": 5
}
